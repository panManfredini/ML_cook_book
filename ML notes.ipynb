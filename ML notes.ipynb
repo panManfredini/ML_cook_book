{
 "cells": [
  {
   "cell_type": "markdown",
   "metadata": {},
   "source": [
    "# ML Notes\n",
    "\n",
    "# Supervised Learning \n",
    "\n",
    "Supervised learning can be divided into other two categories: \n",
    "- regression where the predicted value is a number is continuous\n",
    "- classification where the predicted value is categorical\n",
    "\n",
    "\n",
    "## Regression \n",
    "\n",
    "Fitting:\n",
    "- Model and observation \n",
    "- loss function is the chisquare for example. What is the loss function in classification?\n",
    "\n"
   ]
  },
  {
   "cell_type": "code",
   "execution_count": null,
   "metadata": {},
   "outputs": [],
   "source": []
  }
 ],
 "metadata": {
  "kernelspec": {
   "display_name": "Python 3",
   "language": "python",
   "name": "python3"
  },
  "language_info": {
   "codemirror_mode": {
    "name": "ipython",
    "version": 3
   },
   "file_extension": ".py",
   "mimetype": "text/x-python",
   "name": "python",
   "nbconvert_exporter": "python",
   "pygments_lexer": "ipython3",
   "version": "3.8.5"
  }
 },
 "nbformat": 4,
 "nbformat_minor": 4
}
